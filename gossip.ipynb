{
 "cells": [
  {
   "cell_type": "markdown",
   "id": "discrete-administration",
   "metadata": {},
   "source": [
    "# Story"
   ]
  },
  {
   "cell_type": "markdown",
   "id": "directed-depression",
   "metadata": {},
   "source": [
    "In this example, we will simulate one process spreading through a multilayer network with two layers. That kind of experiments are possible to perform via the `Network Diffusion`, however they require some additional 'hacky' work to do.\n",
    "\n",
    "Colleges communicate via social network and during face-to-face meetings. All of them know each other, but people usually work remotely during the pandemic, and our guys are no exception from the rule. Hence, some don't go to the office - we will simulate it by disconnecting nodes in the 'work' layer. Moreover, it's obvious that the Internet has a more significant impact on information spreading than real interactions. By that reason, in our model, transitions for a social network will be higher weighted than for work layer."
   ]
  },
  {
   "cell_type": "markdown",
   "id": "adapted-recipient",
   "metadata": {},
   "source": [
    "As the first step, we will import all necessary libraries and set up a `matplotlib`'s parameters and notebook configuration: "
   ]
  },
  {
   "cell_type": "code",
   "execution_count": null,
   "id": "nasty-writing",
   "metadata": {},
   "outputs": [],
   "source": [
    "import configparser\n",
    "from typing import Any\n",
    "\n",
    "import matplotlib.pyplot as plt\n",
    "import networkx as nx\n",
    "import numpy as np\n",
    "\n",
    "np.random.seed(0)\n",
    "\n",
    "from network_diffusion import (\n",
    "    MultilayerNetwork,\n",
    "    MultiSpreading,\n",
    "    PropagationModel,\n",
    ")\n",
    "\n",
    "# set deefault values for matplotlib\n",
    "plt.rcParams['figure.figsize'] = [12, 8]\n",
    "plt.rcParams['figure.dpi'] = 150 \n",
    "\n",
    "# read global config\n",
    "config = configparser.ConfigParser()\n",
    "config.read(\"config.ini\")\n",
    "output_dir = config.get(\"PATHS\", \"output_dir\")"
   ]
  },
  {
   "cell_type": "markdown",
   "id": "settled-checklist",
   "metadata": {},
   "source": [
    "## Network"
   ]
  },
  {
   "cell_type": "markdown",
   "id": "structured-robert",
   "metadata": {},
   "source": [
    "Then  we  are  able  to  create  a  multilayer  graph  with  two  layers:  ’work’  (`work_layer`)  and ’social network’ (`twtr_layer`).  The first one will be sparser than the second - this operation will simulate a less intensive interaction in the office compared to social life:"
   ]
  },
  {
   "cell_type": "code",
   "execution_count": null,
   "id": "laughing-rolling",
   "metadata": {},
   "outputs": [],
   "source": [
    "work_layer = nx.karate_club_graph()\n",
    "nodes_to_remove = [\n",
    "    (32, 33), \n",
    "    (4, 10), \n",
    "    (2, 3), \n",
    "    (3, 7),\n",
    "    (23, 27),\n",
    "    (20, 33),\n",
    "    (0, 10), \n",
    "    (22, 33), \n",
    "    (28, 33), \n",
    "    (23, 29),\n",
    "    (2, 7),\n",
    "    (29, 33),\n",
    "    (0, 8), \n",
    "    (26, 33),\n",
    "    (1, 7), \n",
    "    (0, 1), \n",
    "    (15, 33),\n",
    "    (0, 21), \n",
    "    (3, 13), \n",
    "    (1, 19),\n",
    "    (4, 6), \n",
    "    (30, 32),\n",
    "]\n",
    "work_layer.remove_edges_from(nodes_to_remove)\n",
    "twtr_layer = nx.karate_club_graph()\n",
    "network = MultilayerNetwork()\n",
    "network.load_layers_nx([work_layer, twtr_layer], [\"inf_work\", \"inf_twtr\"])"
   ]
  },
  {
   "cell_type": "markdown",
   "id": "postal-excitement",
   "metadata": {},
   "source": [
    "As a result, we will obtain not a multiplex but a multilayer network. That can be proved by visualisation of them with the following code:"
   ]
  },
  {
   "cell_type": "code",
   "execution_count": null,
   "id": "occupational-madness",
   "metadata": {
    "scrolled": true
   },
   "outputs": [],
   "source": [
    "network.describe()\n",
    "\n",
    "layout = nx.spring_layout(twtr_layer)\n",
    "fig, ax = plt.subplots(nrows=1, ncols=2)\n",
    "nx.draw(work_layer, with_labels=True, pos=layout, ax=ax[0])\n",
    "ax[0].set_title('Work layer')\n",
    "nx.draw(twtr_layer, with_labels=True, pos=layout, ax=ax[1])\n",
    "ax[1].set_title('Twtr layer')\n",
    "plt.show()"
   ]
  },
  {
   "cell_type": "markdown",
   "id": "realistic-archives",
   "metadata": {},
   "source": [
    "## Propagation model"
   ]
  },
  {
   "cell_type": "markdown",
   "id": "scientific-while",
   "metadata": {},
   "source": [
    "After that, we can create a propagation model. In our story, we distinguished one process, which spreads in two environments: 'work' and 'social network'. The relation between a person (node) and phenomena (gossip) appears in two states: aware (*a*) and unaware (*u*). In this condition, each individual can get to know about the gossip (*u -> a*) with some pseudo-probability of a certain value at work and another in the social, like in the picture below:\n",
    "\n",
    "<img src=\"aux/model_real.png\">\n",
    "\n",
    "`Network diffusion` allows modelling phenomena like this. To do it, we must, however, write them in a way understandable to the library. In other words, we will define a two process model (one for each layer), but with weights set up to *1* in two transitions $w_{ua}^{aa} = 1, w_{au}^{aa} = 1$  (first item in their index stands for 'social network' layer and second for 'work' layer):\n",
    "\n",
    "<img src=\"aux/model_nd.png\">\n",
    "\n",
    "To simulate faster spreading by the Internet than by real human interactions we will set up $w_{uu}^{au}=0.1$, $w_{uu}^{ua}=0.05$. With that assumption, we are ready to define a propagation model:"
   ]
  },
  {
   "cell_type": "code",
   "execution_count": null,
   "id": "adolescent-shore",
   "metadata": {},
   "outputs": [],
   "source": [
    "model = PropagationModel()\n",
    "phenomenas = [[\"u\", \"a\"], [\"u\", \"a\"]]\n",
    "for l, p in zip(network.get_layer_names(), phenomenas):\n",
    "    model.add(l, p)\n",
    "\n",
    "w_background = 0\n",
    "w_x = 0.05\n",
    "w_y = 0.1\n",
    "\n",
    "model.compile(background_weight=w_background)\n",
    "\n",
    "model.set_transition_fast(\"inf_work.u\", \"inf_work.a\", ([\"inf_twtr.u\"]), w_x)\n",
    "model.set_transition_fast(\"inf_work.u\", \"inf_work.a\", ([\"inf_twtr.a\"]), 1)\n",
    "\n",
    "model.set_transition_fast(\"inf_twtr.u\", \"inf_twtr.a\", ([\"inf_work.u\"]), w_y)\n",
    "model.set_transition_fast(\"inf_twtr.u\", \"inf_twtr.a\", ([\"inf_work.a\"]), 1)\n",
    "\n",
    "model.describe()"
   ]
  },
  {
   "cell_type": "markdown",
   "id": "royal-passenger",
   "metadata": {},
   "source": [
    "## Experiment"
   ]
  },
  {
   "cell_type": "markdown",
   "id": "selective-technique",
   "metadata": {},
   "source": [
    "Now we are ready to set up an experiment. To do it, we have to connect model and network and initialise states of the nodes. We can initialise them randomly or manually by assigning the status of selected nodes.\n",
    "\n",
    "As starting parameters of simulation, we will set:\n",
    "* in Social Network layer 30 nodes unaware and 4 aware of gossip\n",
    "* in Work layer 33 nodes unaware and 1 aware of gossip\n",
    "\n",
    "in two ways (select either option A or option B)"
   ]
  },
  {
   "cell_type": "code",
   "execution_count": null,
   "id": "electric-blowing",
   "metadata": {},
   "outputs": [],
   "source": [
    "# option A - manual selection of nodes; this guarantee that we will obtain reproducible results\n",
    "def set_node_state(\n",
    "    experiment: MultiSpreading, layer_name: str, node_name: Any, state: str\n",
    ") -> None:\n",
    "    \"\"\"Allows to set up the initial state of certain node.\"\"\"\n",
    "    experiment._network.layers[layer_name].nodes[node_name][\"status\"] = state\n",
    "\n",
    "\n",
    "experiment = MultiSpreading(model, network)\n",
    "\n",
    "experiment.set_initial_states({\"inf_twtr\": (34, 0), \"inf_work\": (34, 0)})\n",
    "\n",
    "set_node_state(experiment, \"inf_twtr\", 2, \"a\")\n",
    "set_node_state(experiment, \"inf_twtr\", 3, \"a\")\n",
    "set_node_state(experiment, \"inf_twtr\", 4, \"a\")\n",
    "set_node_state(experiment, \"inf_twtr\", 5, \"a\")\n",
    "\n",
    "set_node_state(experiment, \"inf_work\", 2, \"a\")"
   ]
  },
  {
   "cell_type": "code",
   "execution_count": null,
   "id": "weird-ownership",
   "metadata": {},
   "outputs": [],
   "source": [
    "# option B - random selection of nodes; this is a default way to do it in `Network Diffusion`\n",
    "experiment = MultiSpreading(model, network)\n",
    "experiment.set_initial_states({\"inf_twtr\": (30, 4), \"inf_work\": (33, 1)})"
   ]
  },
  {
   "cell_type": "code",
   "execution_count": null,
   "id": "manual-closing",
   "metadata": {},
   "outputs": [],
   "source": [
    "init_status = experiment._network.get_nodes_states()\n",
    "logs = experiment.perform_propagation(n_epochs=20)\n",
    "final_status = experiment._network.get_nodes_states()\n",
    "\n",
    "print(f\"State of nodes before experiment {init_status}\")\n",
    "print(f\"State of nodes after  experiment {final_status}\")"
   ]
  },
  {
   "cell_type": "markdown",
   "id": "matched-brooklyn",
   "metadata": {},
   "source": [
    "## Results"
   ]
  },
  {
   "cell_type": "markdown",
   "id": "minus-dispatch",
   "metadata": {},
   "source": [
    "After that, we can obtain results:"
   ]
  },
  {
   "cell_type": "code",
   "execution_count": null,
   "id": "joint-honey",
   "metadata": {},
   "outputs": [],
   "source": [
    "logs.report(to_file=True, path=output_dir, visualisation=True)"
   ]
  }
 ],
 "metadata": {
  "kernelspec": {
   "display_name": "network_diffusion_examples",
   "language": "python",
   "name": "network_diffusion_examples"
  },
  "language_info": {
   "codemirror_mode": {
    "name": "ipython",
    "version": 3
   },
   "file_extension": ".py",
   "mimetype": "text/x-python",
   "name": "python",
   "nbconvert_exporter": "python",
   "pygments_lexer": "ipython3",
   "version": "3.7.9"
  }
 },
 "nbformat": 4,
 "nbformat_minor": 5
}
