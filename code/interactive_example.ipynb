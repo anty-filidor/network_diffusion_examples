{
 "cells": [
  {
   "cell_type": "markdown",
   "id": "discrete-administration",
   "metadata": {},
   "source": [
    "# Story"
   ]
  },
  {
   "cell_type": "markdown",
   "id": "directed-depression",
   "metadata": {},
   "source": [
    "Let's consider a clique of colleges from work and an gossip spreading between them. In our experiment we will simulate this phenomena.\n",
    "\n",
    "Colleges communicate via social network and during face-to-face meetings. All of them know each other, but during pandemic people usually works remotely and our guys are no exception from the rule. Hence some of them don't go to bureau - we will simulate it by disconnecting nodes in the 'work' layer. Moreover it's obvious that Internet has bigger impact in the field of information spreading than real interactions. By that reason in our model transitions for social network will be higher weighted than for work layer."
   ]
  },
  {
   "cell_type": "code",
   "execution_count": null,
   "id": "nasty-writing",
   "metadata": {},
   "outputs": [],
   "source": [
    "from typing import Any\n",
    "\n",
    "import matplotlib.pyplot as plt\n",
    "import networkx as nx\n",
    "\n",
    "from network_diffusion import (\n",
    "    MultilayerNetwork,\n",
    "    MultiSpreading,\n",
    "    PropagationModel,\n",
    ")\n",
    "\n",
    "# set deefault values for matplotlib\n",
    "plt.rcParams['figure.figsize'] = [12, 8]\n",
    "plt.rcParams['figure.dpi'] = 150 "
   ]
  },
  {
   "cell_type": "markdown",
   "id": "settled-checklist",
   "metadata": {},
   "source": [
    "# Create graph"
   ]
  },
  {
   "cell_type": "markdown",
   "id": "structured-robert",
   "metadata": {},
   "source": [
    "We will create multilayer graph with two layers: work_layer, twtr_layer First will be less dense than second - this operation will simulate less intensive interaction in the bureau in comparasion to the social life."
   ]
  },
  {
   "cell_type": "code",
   "execution_count": null,
   "id": "laughing-rolling",
   "metadata": {},
   "outputs": [],
   "source": [
    "# initialise layers\n",
    "work_layer = nx.karate_club_graph()\n",
    "nodes_to_remove = [\n",
    "    (32, 33), \n",
    "    (4, 10), \n",
    "    (2, 3), \n",
    "    (3, 7),\n",
    "    (23, 27),\n",
    "    (20, 33),\n",
    "    (0, 10), \n",
    "    (22, 33), \n",
    "    (28, 33), \n",
    "    (23, 29),\n",
    "    (2, 7),\n",
    "    (29, 33),\n",
    "    (0, 8), \n",
    "    (26, 33),\n",
    "    (1, 7), \n",
    "    (0, 1), \n",
    "    (15, 33),\n",
    "    (0, 21), \n",
    "    (3, 13), \n",
    "    (1, 19),\n",
    "    (4, 6), \n",
    "    (30, 32),\n",
    "]\n",
    "work_layer.remove_edges_from(nodes_to_remove)\n",
    "twtr_layer = nx.karate_club_graph()\n",
    "\n",
    "# initialise multilayer graph\n",
    "network = MultilayerNetwork()\n",
    "network.load_layers_nx([work_layer, twtr_layer], [\"inf_work\", \"inf_twtr\"])"
   ]
  },
  {
   "cell_type": "code",
   "execution_count": null,
   "id": "occupational-madness",
   "metadata": {},
   "outputs": [],
   "source": [
    "# auxiliary cell - some description of the network\n",
    "network.describe()\n",
    "\n",
    "layout = nx.spring_layout(twtr_layer)\n",
    "fig, ax = plt.subplots(nrows=1, ncols=2)\n",
    "nx.draw(work_layer, with_labels=True, pos=layout, ax=ax[0])\n",
    "ax[0].set_title('Work layer')\n",
    "nx.draw(twtr_layer, with_labels=True, pos=layout, ax=ax[1])\n",
    "ax[1].set_title('Twtr layer')\n",
    "plt.show()"
   ]
  },
  {
   "cell_type": "markdown",
   "id": "realistic-archives",
   "metadata": {},
   "source": [
    "# Define propagation model"
   ]
  },
  {
   "cell_type": "markdown",
   "id": "scientific-while",
   "metadata": {},
   "source": [
    "Now let's create a propagation model. In our story we distinguished one phenomena (gossip) which is beinng spreaden in two environments: work and social communicator. Relation between person (node) and phenomena (gossip) apears in two states: aware (A) and unaware (U). In these condition each individual can get to know about the gossip in the work with some pseudo-probability* x and via the social communicatior with pseeudo-probability y, like in picture below:\n",
    "\n",
    "<img src=\"aux/model_real.png\">\n",
    "\n",
    "In fact, network-diffusion allows to model phenomenas like this. To do it we must however write them in a way unnderstandable to the library. For our case will do it like that:\n",
    "\n",
    "<img src=\"aux/model_nd.png\">\n",
    "\n",
    "In another words we define a model as usual, but we set up pseudo-probability to 1 in two trasitions:\n",
    "* Unaware(Social Network), Aware(Work) -> Aware(Social Network), Aware(Work); pseudo-probability = 0.1\n",
    "* Aware(Social Network), Unaware(Work) -> Aware(Social Network), Aware(Work); pseudo-probability = 0.05"
   ]
  },
  {
   "cell_type": "code",
   "execution_count": null,
   "id": "adolescent-shore",
   "metadata": {},
   "outputs": [],
   "source": [
    "# initialise propagation model\n",
    "model = PropagationModel()\n",
    "phenomenas = [[\"U\", \"A\"], [\"U\", \"A\"]]\n",
    "for l, p in zip(network.get_layer_names(), phenomenas):\n",
    "    model.add(l, p)\n",
    "\n",
    "# define weights\n",
    "w_background = 0\n",
    "w_x = 0.05\n",
    "w_y = 0.1\n",
    " \n",
    "# set possible transitions with weights\n",
    "model.compile(background_weight=w_background)\n",
    "\n",
    "model.set_transition_fast(\"inf_work.U\", \"inf_work.A\", ([\"inf_twtr.U\"]), w_x)\n",
    "model.set_transition_fast(\"inf_work.U\", \"inf_work.A\", ([\"inf_twtr.A\"]), 1)\n",
    "\n",
    "model.set_transition_fast(\"inf_twtr.U\", \"inf_twtr.A\", ([\"inf_work.U\"]), w_y)\n",
    "model.set_transition_fast(\"inf_twtr.U\", \"inf_twtr.A\", ([\"inf_work.A\"]), 1)"
   ]
  },
  {
   "cell_type": "code",
   "execution_count": null,
   "id": "working-bottom",
   "metadata": {},
   "outputs": [],
   "source": [
    "# description of the network\n",
    "model.describe()"
   ]
  },
  {
   "cell_type": "markdown",
   "id": "selective-technique",
   "metadata": {},
   "source": [
    "The last step in setting up the simulation is a definition of experiment. To do it we have to connect model and network, and initialise states of the nodes. We can initialise theem randomly or manually by assigning status of certain nodes.\n",
    "\n",
    "As starting parameters of simulation we will set:\n",
    "* in layer Social Network 32 nodes unaware and 2 aware of gossip\n",
    "* in layer Work 33 nodes unaware and 1 aware of gossip\n",
    "\n",
    "in two ways"
   ]
  },
  {
   "cell_type": "code",
   "execution_count": null,
   "id": "connected-heading",
   "metadata": {},
   "outputs": [],
   "source": [
    "# option A - setting up states for randomly choosen nodes\n",
    "experiment = MultiSpreading(model, network)\n",
    "experiment.set_initial_states({\"inf_twtr\": (32, 2), \"inf_work\": (33, 1)})"
   ]
  },
  {
   "cell_type": "code",
   "execution_count": null,
   "id": "electric-blowing",
   "metadata": {},
   "outputs": [],
   "source": [
    "# option B - setting up states for manually choosen nodes\n",
    "def set_node_state(\n",
    "    experiment: MultiSpreading, layer_name: str, node_namee: Any, state: str\n",
    ") -> None:\n",
    "    node_idx = list(experiment._network.layers[layer_name].nodes).index(node_namee)\n",
    "    experiment._network.layers[layer_name].nodes[node_idx][\"status\"] = state\n",
    "\n",
    "experiment = MultiSpreading(model, network)\n",
    "experiment.set_initial_states({\"inf_twtr\": (34, 0), \"inf_work\": (34, 0)})\n",
    "\n",
    "set_node_state(experiment, \"inf_twtr\", 2, \"A\")\n",
    "set_node_state(experiment, \"inf_twtr\", 5, \"A\")\n",
    "\n",
    "set_node_state(experiment, \"inf_work\", 2, \"A\")"
   ]
  },
  {
   "cell_type": "code",
   "execution_count": null,
   "id": "manual-closing",
   "metadata": {},
   "outputs": [],
   "source": [
    "# run experiment\n",
    "init_status = experiment._network.get_nodes_states()\n",
    "logs = experiment.perform_propagation(n_epochs=20)\n",
    "final_status = experiment._network.get_nodes_states()\n",
    "\n",
    "print(f\"State of nodes before experiment {init_status}\")\n",
    "print(f\"State of nodes after  experiment {final_status}\")"
   ]
  },
  {
   "cell_type": "code",
   "execution_count": null,
   "id": "joint-honey",
   "metadata": {},
   "outputs": [],
   "source": [
    "# show logs\n",
    "logs.report(to_file=False, path=None, visualisation=True)"
   ]
  }
 ],
 "metadata": {
  "kernelspec": {
   "display_name": "network_diffusion_examples",
   "language": "python",
   "name": "network_diffusion_examples"
  },
  "language_info": {
   "codemirror_mode": {
    "name": "ipython",
    "version": 3
   },
   "file_extension": ".py",
   "mimetype": "text/x-python",
   "name": "python",
   "nbconvert_exporter": "python",
   "pygments_lexer": "ipython3",
   "version": "3.7.9"
  }
 },
 "nbformat": 4,
 "nbformat_minor": 5
}
